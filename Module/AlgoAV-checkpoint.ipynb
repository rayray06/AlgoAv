{
 "cells": [
  {
   "cell_type": "code",
   "execution_count": null,
   "id": "d1ee1232",
   "metadata": {},
   "outputs": [],
   "source": [
    "import numpy as np\n",
    "import numpy.linalg as alg\n",
    "import networkx as nx\n",
    "import matplotlib.pyplot as plt\n",
    "from AlgoAV.Generation.GraphGen import GraphGen, WeigthSet\n",
    "from AlgoAV.Modelisation.FullGraph import SetFullGraph\n",
    "\n",
    "# Graphe incomplet \n",
    "\n",
    "def ImcompletGraph(graph):\n",
    "    \n",
    "    fix, ax = plt.subplots(1, 1,figsize=(10,10))\n",
    "    G = networkx.from_numpy_matrix(npGraph)\n",
    "\n",
    "    pos = nx.spring_layout(G)\n",
    "    nx.draw_networkx(G, pos, with_labels=True, font_weight='bold')\n",
    "    labels = nx.get_edge_attributes(G, 'weight')\n",
    "    nx.draw_networkx_edge_labels(G, pos, edge_labels=labels)\n",
    "\n",
    "# Graphe complet \n",
    "\n",
    "def CompletGraph(graph):\n",
    "    \n",
    "    fix, ax = plt.subplots(1, 1,figsize=(10,10))\n",
    "    _,FullGraph = SetFullGraph(tuple(range(nVille)),nVille,WGraph)\n",
    "\n",
    "    npGraph=np.asarray(FullGraph)\n",
    "    npGraph=np.round(npGraph)\n",
    "    G = nx.from_numpy_matrix(npGraph)\n",
    "\n",
    "    pos = nx.spring_layout(G)\n",
    "    nx.draw_networkx(G, pos, with_labels=True, font_weight='bold')\n",
    "    labels = nx.get_edge_attributes(G, 'weight')\n",
    "    nx.draw_networkx_edge_labels(G, pos, edge_labels=labels)\n",
    "    \n",
    "\n",
    "nVille = 5\n",
    "MaxWeigth = 100\n",
    "Graph = GraphGen(nVille)\n",
    "WGraph = WeigthSet(Graph,nVille,None,MaxWeigth)\n",
    "npGraph=np.asarray(WGraph)\n",
    "npGraph=np.round(npGraph)\n",
    "\n",
    "\n",
    "#print(WGraph)\n",
    "\n",
    "ImcompletGraph(npGraph)\n",
    "CompletGraph(npGraph)\n"
   ]
  }
 ],
 "metadata": {
  "kernelspec": {
   "display_name": "Python 3 (ipykernel)",
   "language": "python",
   "name": "python3"
  },
  "language_info": {
   "codemirror_mode": {
    "name": "ipython",
    "version": 3
   },
   "file_extension": ".py",
   "mimetype": "text/x-python",
   "name": "python",
   "nbconvert_exporter": "python",
   "pygments_lexer": "ipython3",
   "version": "3.9.12"
  }
 },
 "nbformat": 4,
 "nbformat_minor": 5
}
