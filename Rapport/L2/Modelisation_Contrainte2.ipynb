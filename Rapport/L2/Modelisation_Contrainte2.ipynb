{
 "cells": [
  {
   "cell_type": "markdown",
   "id": "f49e3298",
   "metadata": {},
   "source": [
    "Ici les contraintes ajoutées sont :<br> -traffic variable a été ajouté.<br> Point de collecte specifique\n",
    "\n",
    "Les variables de notre situation sont les suivantes :<br>\n",
    "    \n",
    "$X_{i,R}$ : Matrice d'Etat<br>\n",
    "$P$: le nombre d'etat dans la solution<br>\n",
    "$LP$: Le poids du chemin par etat<br>\n",
    "    \n",
    "La fonction objectif est:\n",
    "    $$Min: \\sum_{r=1}^{P} \\sum_{n=1,m=1}^{i,j} F(M,Lp_{r-1})_{n,m} * X_{n,p} * X_{m,p+1} $$ \n",
    "Les contraintes sont : \n",
    "    $$C.S:\\left\\{\n",
    "    \\begin{array}{ll}\n",
    "        \\text{ On se trouve qu'à un sommet par état }  \\\\\n",
    "        \\text{ Le cycle demarre et ce termine au même point  }  \\\\\n",
    "        \\text{ Pour tout passation entre deux états le chemin existe  }  \\\\ \n",
    "        \\text{ Le sommet de depart est le sommet de fin } \\\\\n",
    "        \\text{ La matrice d'etat n'est composée que de 0 ou 1  }\\\\\n",
    "        \\text{ Chaque element de la liste Lp doit etre egale à son precedent plus le poids du trajet correspondant}\\\\\n",
    "        \\text{ Pour chaque point de livraison d'objet on doit etre passer au moins une fois par le point de collecte}\n",
    "    \\end{array}\n",
    "\\right.$$\n",
    "Qui peuvnt etre posée comme :\n",
    "    $$C.S:\\left\\{\n",
    "    \\begin{array}{ll}\n",
    "        \\prod_{p=1}^P \\sum_{c=1}^i X_{cp} = 1  \\\\\n",
    "        \\prod_{r=1}^P \\sum_{n=1,m=1}^{i,j} M_{n,m} * X_{n,r}X_{m,r+1} \\gt 0 \\\\\n",
    "        X_{c1} = X_{cP} \\text{ } \\forall \\text{ } c \\in [1,i] \\\\\n",
    "        X_{c,p} \\in \\{0,1\\} \\text{ } \\forall \\text{ } c \\in [1,i] \\land p \\in [1,P]\\\\\n",
    "        Lp_r - Lp_{r-1} = \\sum_{n,m}^{i,j} F(M,Lp_{r-1})_{n,m}*X_{n,r-1}*X_{m,r}\\\\\n",
    "        \\prod_{v=1}^O \\sum_{r_{max}=1}^P \\sum_{r_{cur}=1}^{r_{max}-1} X_{Oc_{v,1},r_{cur}}*X_{Oc_{v,2},r_{max}}\n",
    "    \\end{array}\n",
    "\\right.$$\n",
    "\n",
    "Avec : \n",
    "$$\n",
    "i:\\text{ le nombre de sommet}\\\\\n",
    "i = j \\\\\n",
    "M_ij :\\text{ La matrice de poids de la situation} \\\\\n",
    "L :\\text{ L'ensemble des ville à livrer}\\\\\n",
    "F(M,t) :\\text{Fonction donnant une matrice de poids partant de M à un temps t}\\\\\n",
    "O :\\text{Le nombre d'objet a livrer}\n",
    "Oc_{2,O} :\\text{Matrice d'objet contenant deux ligne la prmiere les point de collecte et la deuxieme le point de livraison}\n",
    "$$"
   ]
  },
  {
   "cell_type": "markdown",
   "id": "3caf7004",
   "metadata": {},
   "source": [
    "La methode brute n'est pas realisable etant données une infinité de chemin possible même si peu sont optimisé\n",
    "Tentative de resolution avec simplex\n"
   ]
  },
  {
   "cell_type": "markdown",
   "id": "0e07b30a",
   "metadata": {},
   "source": [
    "## Tentative de resolution via simplexe"
   ]
  },
  {
   "cell_type": "markdown",
   "id": "30f45fba",
   "metadata": {},
   "source": [
    "La resolution via simplexe n'est pas possible étant donnée que la taille de la solution est nécessaire alors que nous ne \n",
    "connaissont pas la solution"
   ]
  },
  {
   "cell_type": "markdown",
   "id": "5da6c27c",
   "metadata": {},
   "source": [
    "## Meta heuristique\n",
    "\n",
    "Ainsi afin de resoudre notre probleme il va nous falloir nous tourner vers la meta-heuristique.\n"
   ]
  },
  {
   "cell_type": "code",
   "execution_count": null,
   "id": "c049a84e",
   "metadata": {},
   "outputs": [],
   "source": []
  }
 ],
 "metadata": {
  "kernelspec": {
   "display_name": "Python 3",
   "language": "python",
   "name": "python3"
  },
  "language_info": {
   "codemirror_mode": {
    "name": "ipython",
    "version": 3
   },
   "file_extension": ".py",
   "mimetype": "text/x-python",
   "name": "python",
   "nbconvert_exporter": "python",
   "pygments_lexer": "ipython3",
   "version": "3.8.8"
  }
 },
 "nbformat": 4,
 "nbformat_minor": 5
}
