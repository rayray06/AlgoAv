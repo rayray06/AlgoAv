{
 "cells": [
  {
   "cell_type": "markdown",
   "id": "81b17412",
   "metadata": {},
   "source": [
    "<img src='images/logo-CESI.png' width=\"400\" height=\"400\">\n",
    "\n",
    "# <font color='#8B0000'> ADEME PROJECT </font> "
   ]
  },
  {
   "cell_type": "markdown",
   "id": "7a445228",
   "metadata": {},
   "source": [
    "### Group 3 :\n",
    "Ray-Hann Massoudi ; Dylan Tain ; Charlie Do ; Valentin Malhas"
   ]
  },
  {
   "cell_type": "markdown",
   "id": "2b42c23c",
   "metadata": {},
   "source": [
    "# Choosing our modeling"
   ]
  },
  {
   "cell_type": "markdown",
   "id": "bf844631",
   "metadata": {},
   "source": [
    "Our group decided to choose an adjacency matrix over adjacency list. In our situation, we thought that using an adjacency list would be causing more issues than adjacency matrix because it won't be able to handle dense graph and weight on each vertex.\n",
    "Furthermore, adjacency matrix are easier and faster to build even if the computation of the powers of the adjacency matrix has a non negligible memory cost."
   ]
  },
  {
   "cell_type": "markdown",
   "id": "552ae249",
   "metadata": {},
   "source": [
    "# Generating an adjacency matrix"
   ]
  },
  {
   "cell_type": "markdown",
   "id": "0fca2667",
   "metadata": {},
   "source": [
    "The adjacency matrix will correspond to our starting situation (the number of cities, the different roads and their travel time).\n",
    "\n",
    "Our matrix must respect several rules so that our situation is the closest to reality:\n",
    "\n",
    "1) The generation of our matrix must be random because we must be able to face all the kind of situations that we can meet.\n",
    "\n",
    "2) We consider that our graph can be undirected for this our matrix must be symmetrical.\n",
    "\n",
    "3) The diagonal of our matrix must be null because we cannot make a path on the same vertex."
   ]
  },
  {
   "cell_type": "markdown",
   "id": "5c7095ba",
   "metadata": {},
   "source": [
    "# Choosing our meta-heuristic"
   ]
  },
  {
   "cell_type": "markdown",
   "id": "34c2782c",
   "metadata": {},
   "source": [
    "### Genetic algorithm"
   ]
  },
  {
   "cell_type": "markdown",
   "id": "01f9f915",
   "metadata": {},
   "source": [
    "Genetic algorithms belong to the family of evolutionary algorithms.\n",
    "\n",
    "The existence of an exact deterministic algorithm with polynomial complexity remains unknown. In a TSP problem the complexity shows that it is O(V!) with V the number of cities. If we suppose that V is 1 microsecond\n",
    " \n",
    "<img src='images/gen1.png'>\n",
    "\n",
    "To solve the TSP we find deterministic and approximation algorithms. \n",
    "Deterministic algorithms allow to find the optimal solution, but their complexity is exponential. These algorithms require a lot of memory space and are very time consuming. If the problem becomes large, these algorithms become unusable.\n",
    "Therefore, approximation algorithms allow to find in a reasonable time an approximate solution of the optimal solution. They are generally used to solve concrete problems of large size.\n",
    "As an approximation algorithm we have chosen the ant algorithm.\n"
   ]
  },
  {
   "cell_type": "markdown",
   "id": "419b3f25",
   "metadata": {},
   "source": [
    "### Ant colony algorithm"
   ]
  },
  {
   "cell_type": "markdown",
   "id": "a49fca56",
   "metadata": {},
   "source": [
    "The problem of the travelling salesman is to find the shortest route connecting n given cities, each city to be visited only once. The problem is more generally defined as a fully connected graph (N, A), where the cities are the nodes N and the paths between these cities, the edges A.\n",
    "In the AS algorithm, at each iteration t (1 ≤ t ≤ tmax), each ant k (k = 1, . . . , m) visit the graph and builds a complete path of n = |N| 'steps.\n",
    "\n",
    "Biologists found that ants were able to find the shortest path between the food source and their nest without using sight by exploiting pheromone information.\n",
    "\n",
    "They gathered the following information:\n",
    "\n",
    "-\tAnts initially randomly search for food\n",
    "-\tAnts deposit pheromones on their path\n",
    "-\tThey follow the path marked by this substance\n",
    "-\tThe most marked path is preferred\n",
    "-\tPheromones evaporate with time\n",
    "-\tIf an obstacle is placed on the path of pheromones, the ants go around it by a random side\n",
    "\n",
    "As soon as an ant finds the shortest path, more pheromones will be deposited on the shortest path. This is because the ants having chosen this path will have deposited their pheromone first.\n",
    "For each ant, the path between a city i and a city j depends on:\n",
    "\n",
    "1)\t The list of cities already visited, which defines the possible movements at each step, when the ant k is on the city <img src='images/ant1.png'>\n",
    "\n",
    "2)\tThe inverse of the distance between cities: <img src='images/ant2.png'> called visibility. This \"static\" information is used to direct the choice of the ants towards nearby cities, and to avoid cities that are too far away.\n",
    "\n",
    "3)\tThe amount of pheromone deposited on the edge connecting the two cities, called the intensity of the trail. This parameter defines the attractiveness of a part of the global path and changes with each passage of an ant. It is, in a way, a global memory of the system, which evolves by learning.\n",
    "\n",
    "The moving rule is as follows:\n",
    "\n",
    "<img src='images/ant3.png'>\n",
    "\n",
    "Where α and β are two parameters controlling the relative importance of track intensity, τij (t), and visibility, ηij. With α = 0 , only the visibility of the city is considered thus, the nearest city is chosen at each step. To avoid selecting a route too quickly, a compromise between these two parameters, playing on diversification and intensification behaviour, is necessary. After a complete turn, each ant leaves a certain amount of pheromone on the whole <img src='images/ant4.png'> course, a quantity that depends on the quality of the solution found:\n",
    "\n",
    "<img src='images/ant5.png'>\n",
    " \n",
    "Where <img src='images/ant6.png'> is the path taken by ant k at iteration t, <img src='images/ant7.png'> the length of the tour and Q a fixed parameter. The algorithm would not be complete without the process of evaporating pheromone trails. Indeed, to avoid being trapped in sub-optimal solutions, it is necessary to allow the system to \"forget\" the bad solutions. We therefore counterbalance the additivity of the tracks by a constant decrease of the edge values at each iteration. The rule for updating the tracks is therefore:\n",
    "\n",
    "<img src='images/ant8.png'>\n",
    "\n",
    "Where m is the number of ants and ρ is the evaporation rate. The initial amount of pheromone on the edges is a uniform distribution of a small amount τ0 ≥ \n",
    "\n",
    "<img src='images/ant9.png'>\n",
    "\n",
    "Ant algorithm to solve the TSP problem\n"
   ]
  },
  {
   "cell_type": "markdown",
   "id": "51cbe7b2",
   "metadata": {},
   "source": [
    "# Implementation of memozation"
   ]
  },
  {
   "cell_type": "markdown",
   "id": "ffd04ac6",
   "metadata": {},
   "source": [
    "When a function is called several times with the same input parameter values, there is no need to execute it several times, once is enough. You just have to put the result in a cache memory, and return it each time you call it again with the same values. In case these calls are frequent, you save a lot of time, especially if the cache access is fast."
   ]
  },
  {
   "cell_type": "markdown",
   "id": "a8bb9cc9",
   "metadata": {},
   "source": [
    "# Implementation"
   ]
  },
  {
   "cell_type": "code",
   "execution_count": null,
   "id": "eb32fed5",
   "metadata": {},
   "outputs": [],
   "source": []
  },
  {
   "cell_type": "markdown",
   "id": "6211b0da",
   "metadata": {},
   "source": [
    "# Bibliography"
   ]
  },
  {
   "cell_type": "markdown",
   "id": "3bc9726a",
   "metadata": {},
   "source": [
    "### Meta-heuristique\n",
    "\n",
    "https://igm.univ-mlv.fr/~dr/XPOSE2013/tleroux_genetic_algorithm/hello-world.html\n",
    "\n",
    "https://www.apprendre-en-ligne.net/info/algo/fourmis.html\n",
    "\n",
    "https://tel.archives-ouvertes.fr/tel-00126292/document\n",
    "\n",
    "https://tel.archives-ouvertes.fr/tel-00126292/document\n"
   ]
  },
  {
   "cell_type": "code",
   "execution_count": null,
   "id": "89316a6e",
   "metadata": {},
   "outputs": [],
   "source": []
  }
 ],
 "metadata": {
  "kernelspec": {
   "display_name": "Python 3 (ipykernel)",
   "language": "python",
   "name": "python3"
  },
  "language_info": {
   "codemirror_mode": {
    "name": "ipython",
    "version": 3
   },
   "file_extension": ".py",
   "mimetype": "text/x-python",
   "name": "python",
   "nbconvert_exporter": "python",
   "pygments_lexer": "ipython3",
   "version": "3.9.12"
  }
 },
 "nbformat": 4,
 "nbformat_minor": 5
}
