{
 "cells": [
  {
   "cell_type": "markdown",
   "id": "81b17412",
   "metadata": {},
   "source": [
    "<img src='logo-CESI.png' width=\"400\" height=\"400\">\n",
    "\n",
    "# <font color='#8B0000'> ADEME PROJECT </font> "
   ]
  },
  {
   "cell_type": "markdown",
   "id": "7a445228",
   "metadata": {},
   "source": [
    "### Group 3 :\n",
    "Ray-Hann Massoudi ; Dylan Tain ; Charlie Do ; Valentin Malhas"
   ]
  },
  {
   "cell_type": "markdown",
   "id": "2b42c23c",
   "metadata": {},
   "source": [
    "# Choosing our modeling"
   ]
  },
  {
   "cell_type": "markdown",
   "id": "bf844631",
   "metadata": {},
   "source": [
    "Our group decided to choose an adjacency matrix over adjacency list. In our situation, we thought that using an adjacency list would be causing more issues than adjacency matrix because it won't be able to handle dense graph and weight on each vertex.\n",
    "Furthermore, adjacency matrix are easier and faster to build even if the computation of the powers of the adjacency matrix has a non negligible memory cost."
   ]
  },
  {
   "cell_type": "markdown",
   "id": "552ae249",
   "metadata": {},
   "source": [
    "# Generating an adjacency matrix"
   ]
  },
  {
   "cell_type": "markdown",
   "id": "0fca2667",
   "metadata": {},
   "source": [
    "The adjacency matrix will correspond to our starting situation (the number of cities, the different roads and their travel time).\n",
    "\n",
    "Our matrix must respect several rules so that our situation is the closest to reality:\n",
    "\n",
    "1) The generation of our matrix must be random because we must be able to face all the kind of situations that we can meet.\n",
    "\n",
    "2) We consider that our graph can be undirected for this our matrix must be symmetrical.\n",
    "\n",
    "3) The diagonal of our matrix must be null because we cannot make a path on the same vertex."
   ]
  },
  {
   "cell_type": "markdown",
   "id": "5c7095ba",
   "metadata": {},
   "source": [
    "# Choosing our meta-heuristic"
   ]
  },
  {
   "cell_type": "markdown",
   "id": "34c2782c",
   "metadata": {},
   "source": [
    "### Genetic algorithm"
   ]
  },
  {
   "cell_type": "markdown",
   "id": "01f9f915",
   "metadata": {},
   "source": [
    "Genetic algorithms belong to the family of evolutionary algorithms.\n",
    "Their goal is to obtain an approximation of the solution to an NP-complete problem by an optimization mechanism.\n",
    "\n",
    "To solve these problems, we use heuristics in order to find the optimal, or at least the least bad, solution to the problem. \n",
    "Genetic algorithms use Darwin's theory of the evolution of species.\n",
    "\n",
    "It is based on three principles:\n",
    "\n",
    "The principle of variation: Each individual within a population is unique. These differences, more or less important, will be decisive in the selection process. \t\n",
    "\n",
    "The principle of adaptation: Individuals that are better adapted to their environment reach adulthood more easily. Those with a better survival capacity will therefore be able to reproduce more. \n",
    "\n",
    "The principle of heredity: The characteristics of individuals must be hereditary in order to be transmitted to their descendants. This mechanism will allow the species to evolve to share the characteristics that are advantageous to its survival.\n",
    "\n",
    "Genetic algorithms some limits:  \n",
    "The first limit is the long computation time. Genetic algorithms require many iterations, as well as the excessive use of the evaluation function: other metaheuristics can be more interesting. \n",
    " It is also necessary to know how to model the genetic architecture of the problem because the success of the evolution depends on it and several trials are necessary: this limits the efficiency of the algorithm.\n",
    "The evaluation function is critical, it is essential to define it carefully to take into account all the parameters of the problem. Its complexity must be optimal because it is at the heart of the algorithm.\n",
    "The results are uncertain: despite a large number of generations, it is impossible to be sure that the solution obtained is the best. We are sure to have approached the optimal solution, without the certainty of having reached it.\n",
    "There is the risk of local optimals which is the result of a premature convergence which discards the other potential solutions.\n",
    "\n",
    "Finally, these algorithms require a large memory allocation by using a large population and many variables during the generation process. \n",
    "\n",
    "The existence of an exact deterministic algorithm with polynomial complexity remains unknown. In a TSP problem the complexity shows that it is O(V!) with V the number of cities. If we suppose that V is 1 microsecond\n"
   ]
  },
  {
   "cell_type": "markdown",
   "id": "419b3f25",
   "metadata": {},
   "source": [
    "### Ant colony algorithm"
   ]
  },
  {
   "cell_type": "markdown",
   "id": "a49fca56",
   "metadata": {},
   "source": [
    "An ant colony algorithm is an iterative population algorithm where all individuals share a common knowledge that allows them to guide their future choices and to indicate to other individuals directions to follow or to avoid.\n",
    "\n",
    "Strongly inspired by the movement of groups of ants, this method aims to build the best solutions from the elements that have been explored by other individuals. Each time an individual discovers a solution to the problem, good or bad, he or she enriches the collective knowledge of the colony. Thus, each time a new individual will have to make choices, he will be able to rely on the collective knowledge to weight his choices.\n",
    "\n",
    "To use the natural name, the individuals are ants that will move around in search of solutions and that will secrete pheromones to indicate to their congeners if a path is interesting or not. If a path is strongly pheromone, it means that many ants have judged it as part of an interesting solution and that the following ants should consider it with interest.\n",
    "\n",
    "A risk appears when a non optimal path is marked. Indeed, the ants that will be close to it will be tempted to go through it, increasing the pheromone level of this path. To reduce the risk of pushing the colony into a local minimum of the problem, we can take care to automatically decrease the pheromone level of the whole system, to increase the interest of the other paths which could be part of the optimal solution. This parameter, corresponding to the evaporation rate of pheromones, is one of the main parameters of the algorithm.\n",
    "\n",
    "In the same way, no path should be flooded with pheromones and no path should be totally invisible, so we can also control the pheromone level of each path to keep it between minimum and maximum bounds. A path flooded with pheromones would hide all the others nearby and a path with no pheromones at all would never be chosen by an ant, so we must keep these paths with reasonable values. These min and max bounds are also parameters of the algorithm.\n"
   ]
  },
  {
   "cell_type": "markdown",
   "id": "51cbe7b2",
   "metadata": {},
   "source": [
    "# Implementation of memozation"
   ]
  },
  {
   "cell_type": "markdown",
   "id": "ffd04ac6",
   "metadata": {},
   "source": [
    "When a function is called several times with the same input parameter values, there is no need to execute it several times, once is enough. You just have to put the result in a cache memory, and return it each time you call it again with the same values. In case these calls are frequent, you save a lot of time, especially if the cache access is fast."
   ]
  },
  {
   "cell_type": "markdown",
   "id": "a8bb9cc9",
   "metadata": {},
   "source": [
    "# Implementation"
   ]
  },
  {
   "cell_type": "code",
   "execution_count": null,
   "id": "eb32fed5",
   "metadata": {},
   "outputs": [],
   "source": []
  },
  {
   "cell_type": "markdown",
   "id": "6211b0da",
   "metadata": {},
   "source": [
    "# Bibliography"
   ]
  },
  {
   "cell_type": "markdown",
   "id": "3bc9726a",
   "metadata": {},
   "source": [
    "### Meta-heuristique\n",
    "\n",
    "https://igm.univ-mlv.fr/~dr/XPOSE2013/tleroux_genetic_algorithm/hello-world.html\n",
    "\n",
    "https://www.apprendre-en-ligne.net/info/algo/fourmis.html"
   ]
  },
  {
   "cell_type": "code",
   "execution_count": null,
   "id": "89316a6e",
   "metadata": {},
   "outputs": [],
   "source": []
  }
 ],
 "metadata": {
  "kernelspec": {
   "display_name": "Python 3 (ipykernel)",
   "language": "python",
   "name": "python3"
  },
  "language_info": {
   "codemirror_mode": {
    "name": "ipython",
    "version": 3
   },
   "file_extension": ".py",
   "mimetype": "text/x-python",
   "name": "python",
   "nbconvert_exporter": "python",
   "pygments_lexer": "ipython3",
   "version": "3.9.12"
  }
 },
 "nbformat": 4,
 "nbformat_minor": 5
}
