{
 "cells": [
  {
   "cell_type": "markdown",
   "id": "6a4ec8a3",
   "metadata": {},
   "source": [
    "<img src='logo-CESI.png' width=\"400\" height=\"400\">\n",
    "\n",
    "# <font color='#8B0000'> ADEME PROJECT </font> "
   ]
  },
  {
   "cell_type": "markdown",
   "id": "88ace8c1",
   "metadata": {},
   "source": [
    "### Group 3 :\n",
    "Ray-Hann Massoudi ; Dylan Tain ; Charlie Do ; Valentin Malhas"
   ]
  },
  {
   "cell_type": "markdown",
   "id": "4047368d",
   "metadata": {},
   "source": [
    "# <font color='#8B0000'> Context </font>"
   ]
  },
  {
   "cell_type": "markdown",
   "id": "f1aaf55d",
   "metadata": {},
   "source": [
    "According to ADEME, the main goal of our work project is to reduce the rate of air pollution and the expenses of our freight carrier.\n",
    "Which means that we have to find out a new way to optimise our truck movement. \n",
    "Our plan is to develop an algorithm, that will be able to predict one the best time length for each route.\n",
    "However, our algorithm will be given some constraints all along the process in order to improve its accuracy.\n",
    "\n",
    "Some examples are :\n",
    "- The length of time of a route will be able to change in accordance with the period to simulate traffic jams.\n",
    "- Follow the delivery window of each delivery point"
   ]
  },
  {
   "cell_type": "markdown",
   "id": "196308b1",
   "metadata": {},
   "source": [
    "Data :\n",
    "\n",
    "Question : "
   ]
  },
  {
   "cell_type": "markdown",
   "id": "fad6be89",
   "metadata": {},
   "source": [
    "| Numbers | List of constraints |\n",
    "| :-: | :- |\n",
    "| 1 | Check that each vertex est entrée au moins une fois |\n",
    "| 2 | Check there are entry as much as exit |\n",
    "| 3 |\n",
    "| 4 | Start = End |\n",
    "| 5 | If there is no edge we can't go thought the path |\n",
    "| 6 | Les poids et les nombres de passages doivent etre supérieur à 0 | Weights and passages numbers have to be over 0\n",
    "| 7 | Les diagonal sont vide (pas de boucle) | Diagonals are empty (no loop)\n",
    "| 8 | A rajouter X_xy Entier Naturel | Add X_xy as an natural integer"
   ]
  },
  {
   "cell_type": "markdown",
   "id": "7cf2023f",
   "metadata": {},
   "source": [
    "# <font color='#8B0000'> Complexity of the algorithm </font>"
   ]
  },
  {
   "cell_type": "markdown",
   "id": "3e2eac55",
   "metadata": {},
   "source": [
    "Our initial problem is : \" How can we pass to each cities group , at least once,  and back to the departure city ?\". Our objective is to find a comparable problem  whose difficulty is known .\n",
    "This problem can be compared to the traveler salemen problem that is NP-Hard.  \n",
    "\n",
    "First we have to do a polynomial reduction.\n",
    "To pass from the traveler's cycle problem to our problem (ADEME) we can remove all direct line that don't exist in ADEME's problem and replace them by the shortest route between 2 points.\n",
    "\n",
    "Below there is a shematic explanation :\n"
   ]
  },
  {
   "cell_type": "markdown",
   "id": "8da9ac3c",
   "metadata": {},
   "source": [
    "<img src='reduc_poly.png' width=\"450\" height=\"600\">"
   ]
  },
  {
   "cell_type": "markdown",
   "id": "6f9f27b7",
   "metadata": {},
   "source": [
    "In this exemple ,  2 routes doesn't exist : \n",
    "\n",
    "- U4 : it can be replaced by the path U1 --> U6 or U1-->U2-->U3 . \n",
    "          U4 = min(U1uU6 , U1uU2uU3)  \n",
    " - U7 : it can be replaced by the path U1 --> U2 or U1-->U6-->U3 . \n",
    "          U4 = min(U1uU6 , U1uU6uU3)  \n",
    "\n",
    " \n",
    " That means that traveler's problem can be reduced as ADEME'S problem. We can conclude that ADEME's problem is at least as much difficult than traveler's problem  , traveler's problem is NP-Hard so ADAME's problem is NP-Hard too.\n",
    " "
   ]
  },
  {
   "cell_type": "markdown",
   "id": "cd63a8e8",
   "metadata": {},
   "source": [
    "For the verification we did a decision problem : \"Is there any route shorter than k\" where k is the weight limit.\n",
    "\n",
    "Data : G=(V,E) ;\n",
    "\n",
    "We are searching in wich complexity is our verification problem.\n",
    "To find it , we used the same processus that for the resolvation. We also did one more step. \n",
    "The verification alghoritm Is as follow :\n",
    "\n",
    "    Check if the route contain every node (O(N))\n",
    "    Check if lthe length of the cycle is below K (O(1))\n",
    "\n",
    "So the verification is polynomial but precedently we proved that  our problem is  as much harder than Traveler's problem , the verification isn't doable in polynomial time so the ADEME problem is not in NP but in NP-Hard\n"
   ]
  }
 ],
 "metadata": {
  "kernelspec": {
   "display_name": "Python 3 (ipykernel)",
   "language": "python",
   "name": "python3"
  },
  "language_info": {
   "codemirror_mode": {
    "name": "ipython",
    "version": 3
   },
   "file_extension": ".py",
   "mimetype": "text/x-python",
   "name": "python",
   "nbconvert_exporter": "python",
   "pygments_lexer": "ipython3",
   "version": "3.9.12"
  }
 },
 "nbformat": 4,
 "nbformat_minor": 5
}
