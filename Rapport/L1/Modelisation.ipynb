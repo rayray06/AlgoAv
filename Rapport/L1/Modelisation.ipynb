{
 "cells": [
  {
   "cell_type": "markdown",
   "id": "f49e3298",
   "metadata": {},
   "source": [
    "Les variables de notre situation sont les suivantes :<br>\n",
    "    \n",
    "    $X_ij$ : Matrice de Passage<br>\n",
    "    s : index sommet de début<br>\n",
    "    t : index sommet de fin<br>\n",
    "    \n",
    "La fonction objectif est:\n",
    "    $$Min: \\sum_{n=1}^i \\sum_{m=1}^j M_{nm} * X_{nm} $$ \n",
    "Les contraintes sont : \n",
    "    $$C.S:\\left\\{\n",
    "    \\begin{array}{ll}\n",
    "        \\prod_{p=1}^i \\sum_{c=1}^i X_{cp} \\gt 0  \\\\\n",
    "        \\sum_{p=1}^i (\\sum_{c=1}^j X_{cp} - \\sum_{c=1}^i X_{pc}) = 0 \\\\\n",
    "        s = t  \\\\\n",
    "        M_{xy} = 0 \\Rightarrow X_{xy} = 0 \\text{ } \\forall \\text{ } x \\in \\mathbb{N} \\land x \\in [1,i] , y \\in \\mathbb{N} \\land y \\in [1,j] \\\\ \n",
    "        M_{xy} , X_{xy} \\geq 0 \\text{ } \\forall \\text{ } x \\in \\mathbb{N} \\land x \\in [1,i] , y \\in \\mathbb{N} \\land y \\in [1,j] \\\\\n",
    "        X_{xy} \\in \\mathbb{N} \\text{ } \\forall \\text{ } x \\in \\mathbb{N} \\land x \\in [1,i] , y \\in \\mathbb{N} \\land y \\in [1,j] \\\\\n",
    "        M_{xx} , X_{xx} = 0 \\text{ } \\forall \\text{ } x \\in \\mathbb{N} \\land x \\in [1,i]\n",
    "    \\end{array}\n",
    "\\right.$$\n",
    "\n",
    "Avec : \n",
    "$$\n",
    "i:\\text{ le nombre de sommet}\\\\\n",
    "i = j \\\\\n",
    "M_ij :\\text{ La matrice de poids de la situation}\n",
    "$$\n",
    "\n",
    "    \n",
    "    "
   ]
  },
  {
   "cell_type": "code",
   "execution_count": null,
   "id": "6750da88",
   "metadata": {},
   "outputs": [],
   "source": []
  }
 ],
 "metadata": {
  "kernelspec": {
   "display_name": "Python 3",
   "language": "python",
   "name": "python3"
  },
  "language_info": {
   "codemirror_mode": {
    "name": "ipython",
    "version": 3
   },
   "file_extension": ".py",
   "mimetype": "text/x-python",
   "name": "python",
   "nbconvert_exporter": "python",
   "pygments_lexer": "ipython3",
   "version": "3.8.8"
  }
 },
 "nbformat": 4,
 "nbformat_minor": 5
}
