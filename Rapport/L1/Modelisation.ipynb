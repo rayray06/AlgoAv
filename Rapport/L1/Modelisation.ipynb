{
 "cells": [
  {
   "cell_type": "markdown",
   "id": "f49e3298",
   "metadata": {},
   "source": [
    "Les variables de notre situation sont les suivantes :<br>\n",
    "    \n",
    "    $X_ij$ : Matrice de Passage<br>\n",
    "    s : index sommet de début<br>\n",
    "    t : index sommet de fin<br>\n",
    "    \n",
    "La fonction objectif est:\n",
    "    $$Min: \\sum_{n=1}^i \\sum_{m=1}^j M_{n,m} * X_{n,m} $$ \n",
    "Les contraintes sont : \n",
    "    $$C.S:\\left\\{\n",
    "    \\begin{array}{ll}\n",
    "        \\text{ On entre dans chaque sommet de la liste au moins 1 fois }  \\\\\n",
    "        \\text{ On entre dans chaque sommet autant de fois qu'on sort } \\\\\n",
    "        \\text{ Le cycle demarre et ce termine au même point  }  \\\\\n",
    "        \\text{ Si un chemin a un poids nul on y passe pas  }  \\\\ \n",
    "        \\text{ Les poids et les nombres de passage sont positif  } \\\\\n",
    "        \\text{ les nombres de passage sont des entiers naturels  }\\\\\n",
    "        \\text{ Il n'existe pas de boucle sur un sommet  }\n",
    "    \\end{array}\n",
    "\\right.$$\n",
    "Qui peuvnt etre posée comme :\n",
    "$$C.S:\\left\\{\n",
    "    \\begin{array}{ll}\n",
    "        \\prod_{p \\in L} \\sum_{c=1}^i X_{c,p} \\gt 0  \\\\\n",
    "        \\sum_{p=1}^i (\\sum_{c=1}^j X_{c,p} - \\sum_{c=1}^i X_{p,c}) = 0 \\\\\n",
    "        s = t  \\\\\n",
    "        M_{x,y} = 0 \\Rightarrow X_{x,y} = 0 \\\\ \n",
    "        M_{x,y} , X_{x,y} \\geq 0 \\\\\n",
    "        X_{x,y} \\in \\mathbb{N}\\\\\n",
    "        M_{x,x} , X_{x,x} = 0\n",
    "    \\end{array}\n",
    "\\right.$$\n",
    "\n",
    "\n",
    "\n",
    "Avec : \n",
    "$$\n",
    "i:\\text{ le nombre de sommet}\\\\\n",
    "i = j \\\\\n",
    "M_ij :\\text{ La matrice de poids de la situation}\\\\\n",
    "L :\\text{ L'ensemble des ville à livrer}\n",
    "$$\n",
    "\n",
    "$$\n",
    "========================\n",
    "OU\n",
    "========================\n",
    "$$\n",
    "\n",
    "Les variables de notre situation sont les suivantes :<br>\n",
    "    \n",
    "$X_{i,R}$ : Matrice d'Etat<br>\n",
    "$P$: le nombre d'etat dans la solution\\\\\n",
    "    \n",
    "La fonction objectif est:\n",
    "    $$Min: \\sum_{n=1,m=1}^{i,j} M_{n,m} \\sum_{r=1}^P X_{n,r}X_{m,r+1} $$ \n",
    "Les contraintes sont : \n",
    "    $$C.S:\\left\\{\n",
    "    \\begin{array}{ll}\n",
    "        \\text{ On se trouve qu'à un sommet par état }  \\\\\n",
    "        \\text{ On passe par chaque sommet de la liste au moins une fois } \\\\\n",
    "        \\text{ Le cycle demarre et ce termine au même point  }  \\\\\n",
    "        \\text{ Pour tout passation entre deux états le chemin existe  }  \\\\ \n",
    "        \\text{ Le sommet de depart est le sommet de fin } \\\\\n",
    "        \\text{ La matrrice d'etat n'est composé  }\\\\\n",
    "        \\text{ Il n'existe pas de boucle sur un sommet  }\n",
    "    \\end{array}\n",
    "\\right.$$\n",
    "Qui peuvnt etre posée comme :\n",
    "    $$C.S:\\left\\{\n",
    "    \\begin{array}{ll}\n",
    "        \\prod_{p=1}^P \\sum_{c=1}^i X_{cp} = 1  \\\\ \n",
    "        \\prod_{c \\in L} \\sum_{p=1}^P X_{cp} \\geq 1  \\\\\n",
    "        \\prod_{r=1}^P \\sum_{n=1,m=1}^{i,j} M_{n,m} * X_{n,r}X_{m,r+1} \\gt 0 \\\\\n",
    "        X_{c1} = X_{cP} \\text{ } \\forall \\text{ } c \\in [1,i] \\\\\n",
    "        X_{c,p} \\in {0,1} \\text{ } \\forall \\text{ } c \\in [1,i] \\land p \\in [1,P] \n",
    "    \\end{array}\n",
    "\\right.$$\n",
    "\n",
    "Avec : \n",
    "$$\n",
    "i:\\text{ le nombre de sommet}\\\\\n",
    "i = j \\\\\n",
    "M_ij :\\text{ La matrice de poids de la situation}\n",
    "L :\\text{ L'ensemble des ville à livrer}\n",
    "$$"
   ]
  },
  {
   "cell_type": "markdown",
   "id": "0c7aaa4e",
   "metadata": {},
   "source": [
    "La methode brute n'est pas realisable etant données une infinité de chemin possible même si peu sont optimisé\n",
    "Tentative de resolution avec simplex\n"
   ]
  },
  {
   "cell_type": "markdown",
   "id": "eed9ed81",
   "metadata": {},
   "source": [
    "## Tentative de resolution via simplexe"
   ]
  },
  {
   "cell_type": "markdown",
   "id": "1b6fe187",
   "metadata": {},
   "source": [
    "La resolution via simplexe n'est pas possible étant donnée que la taille de la solution est nécessaire alors que nous connaissont pas la solution"
   ]
  },
  {
   "cell_type": "markdown",
   "id": "da43bd85",
   "metadata": {},
   "source": [
    "## Meta heuristique\n",
    "\n",
    "Ainsi afin de resoudre notre probleme il va nous falloir nous tourner vers la meta-heuristique : \n"
   ]
  },
  {
   "cell_type": "code",
   "execution_count": null,
   "id": "f3c5a780",
   "metadata": {},
   "outputs": [],
   "source": []
  }
 ],
 "metadata": {
  "kernelspec": {
   "display_name": "Python 3",
   "language": "python",
   "name": "python3"
  },
  "language_info": {
   "codemirror_mode": {
    "name": "ipython",
    "version": 3
   },
   "file_extension": ".py",
   "mimetype": "text/x-python",
   "name": "python",
   "nbconvert_exporter": "python",
   "pygments_lexer": "ipython3",
   "version": "3.8.8"
  }
 },
 "nbformat": 4,
 "nbformat_minor": 5
}
