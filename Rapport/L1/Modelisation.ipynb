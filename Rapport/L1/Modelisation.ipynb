{
 "cells": [
  {
   "cell_type": "markdown",
   "id": "f49e3298",
   "metadata": {},
   "source": [
    "Les variables de notre situation sont les suivantes :<br>\n",
    "    \n",
    "    $X_ij$ : Matrice de Passage<br>\n",
    "    s : index sommet de début<br>\n",
    "    t : index sommet de fin<br>\n",
    "    \n",
    "La fonction objectif est:\n",
    "    $$Min: \\sum_{n=1}^i \\sum_{m=1}^j M_{n,m} * X_{n,m} $$ \n",
    "Les contraintes sont : \n",
    "    $$C.S:\\left\\{\n",
    "    \\begin{array}{ll}\n",
    "        \\prod_{p=1}^i \\sum_{c=1}^i X_{c,p} \\gt 0  \\\\\n",
    "        \\sum_{p=1}^i (\\sum_{c=1}^j X_{c,p} - \\sum_{c=1}^i X_{p,c}) = 0 \\\\\n",
    "        s = t  \\\\\n",
    "        M_{x,y} = 0 \\Rightarrow X_{x,y} = 0 \\text{ } \\forall \\text{ } x \\in \\mathbb{N} \\land x \\in [1,i] , y \\in \\mathbb{N} \\land y \\in [1,j] \\\\ \n",
    "        M_{x,y} , X_{x,y} \\geq 0 \\text{ } \\forall \\text{ } x \\in \\mathbb{N} \\land x \\in [1,i] , y \\in \\mathbb{N} \\land y \\in [1,j] \\\\\n",
    "        X_{x,y} \\in \\mathbb{N} \\text{ } \\forall \\text{ } x \\in \\mathbb{N} \\land x \\in [1,i] , y \\in \\mathbb{N} \\land y \\in [1,j] \\\\\n",
    "        M_{x,x} , X_{x,x} = 0 \\text{ } \\forall \\text{ } x \\in \\mathbb{N} \\land x \\in [1,i]\n",
    "    \\end{array}\n",
    "\\right.$$\n",
    "\n",
    "Avec : \n",
    "$$\n",
    "i:\\text{ le nombre de sommet}\\\\\n",
    "i = j \\\\\n",
    "M_ij :\\text{ La matrice de poids de la situation}\n",
    "$$\n",
    "\n",
    "$$\n",
    "========================\n",
    "OU\n",
    "========================\n",
    "$$\n",
    "\n",
    "Les variables de notre situation sont les suivantes :<br>\n",
    "    \n",
    "$X_{i,R}$ : Matrice d'Etat<br>\n",
    "\n",
    "    \n",
    "La fonction objectif est:\n",
    "    $$Min: \\sum_{n=1,m=1}^{i,j} M_{n,m} \\sum_{r=1}^P X_{n,r}X_{m,r+1} $$ \n",
    "Les contraintes sont : \n",
    "    $$C.S:\\left\\{\n",
    "    \\begin{array}{ll}\n",
    "        \\prod_{p=1}^P \\sum_{c=1}^i X_{cp} = 1  \\\\ \n",
    "        \\prod_{c=1}^i \\sum_{p=1}^P X_{cp} \\geq 1  \\\\\n",
    "        \\prod_{r=1}^P \\sum_{n=1,m=1}^{i,j} M_{n,m} * X_{n,r}X_{m,r+1} \\gt 0 \\\\\n",
    "        X_{c1} = X_{cP} \\text{ } \\forall \\text{ } i \\in [1,i] \\\\\n",
    "        X_{c,p} \\in {0,1} \\text{ } \\forall \\text{ } c \\in [1,i] \\land p \\in [1,P] \n",
    "    \\end{array}\n",
    "\\right.$$\n",
    "\n",
    "Avec : \n",
    "$$\n",
    "i:\\text{ le nombre de sommet}\\\\\n",
    "P:\\text{ le nombre d'etat dans la solution}\\\\\n",
    "i = j \\\\\n",
    "M_ij :\\text{ La matrice de poids de la situation}\n",
    "$$"
   ]
  },
  {
   "cell_type": "markdown",
   "id": "1862d94a",
   "metadata": {},
   "source": [
    "La methode brute n'est pas realisable etant données une infinité de chemin possible même si peu sont optimisé\n",
    "Tentative de resolution avec simplex\n"
   ]
  },
  {
   "cell_type": "markdown",
   "id": "42824764",
   "metadata": {},
   "source": [
    "## Tentative de resolution via simplexe"
   ]
  },
  {
   "cell_type": "code",
   "execution_count": 2,
   "id": "f4233a91",
   "metadata": {},
   "outputs": [],
   "source": [
    "from pulp import *\n",
    "import numpy as np"
   ]
  },
  {
   "cell_type": "markdown",
   "id": "695dfd24",
   "metadata": {},
   "source": [
    "### Premiere modelisation"
   ]
  },
  {
   "cell_type": "code",
   "execution_count": null,
   "id": "6bdcdc4d",
   "metadata": {},
   "outputs": [],
   "source": []
  }
 ],
 "metadata": {
  "kernelspec": {
   "display_name": "Python 3",
   "language": "python",
   "name": "python3"
  },
  "language_info": {
   "codemirror_mode": {
    "name": "ipython",
    "version": 3
   },
   "file_extension": ".py",
   "mimetype": "text/x-python",
   "name": "python",
   "nbconvert_exporter": "python",
   "pygments_lexer": "ipython3",
   "version": "3.8.8"
  }
 },
 "nbformat": 4,
 "nbformat_minor": 5
}
